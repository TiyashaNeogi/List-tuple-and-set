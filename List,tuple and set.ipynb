{
 "cells": [
  {
   "cell_type": "markdown",
   "id": "4b33b714-dfc0-472f-b76c-34c0517ea0c9",
   "metadata": {},
   "source": [
    "LIST"
   ]
  },
  {
   "cell_type": "code",
   "execution_count": 1,
   "id": "dd13bc04-9200-452c-8a6e-d43f038878a1",
   "metadata": {},
   "outputs": [],
   "source": [
    "l=[1,343,45,\"Tiyasha\",True,5+7j,25.34]"
   ]
  },
  {
   "cell_type": "code",
   "execution_count": 2,
   "id": "e7a6af59-4aa8-4b47-ad55-cd153d18aff3",
   "metadata": {},
   "outputs": [
    {
     "data": {
      "text/plain": [
       "list"
      ]
     },
     "execution_count": 2,
     "metadata": {},
     "output_type": "execute_result"
    }
   ],
   "source": [
    "type(l)"
   ]
  },
  {
   "cell_type": "code",
   "execution_count": 3,
   "id": "c1fc68ba-4ce1-48e3-b43f-ead1eba64cb1",
   "metadata": {},
   "outputs": [
    {
     "data": {
      "text/plain": [
       "1"
      ]
     },
     "execution_count": 3,
     "metadata": {},
     "output_type": "execute_result"
    }
   ],
   "source": [
    "l[0]"
   ]
  },
  {
   "cell_type": "code",
   "execution_count": 4,
   "id": "ecdadf0c-4272-4c2c-bb19-c8cffca24d4a",
   "metadata": {},
   "outputs": [
    {
     "data": {
      "text/plain": [
       "25.34"
      ]
     },
     "execution_count": 4,
     "metadata": {},
     "output_type": "execute_result"
    }
   ],
   "source": [
    "l[6]"
   ]
  },
  {
   "cell_type": "code",
   "execution_count": 5,
   "id": "640cdeab-d45d-4ec3-9b08-ee9f657379f0",
   "metadata": {},
   "outputs": [
    {
     "ename": "IndexError",
     "evalue": "list index out of range",
     "output_type": "error",
     "traceback": [
      "\u001b[0;31m---------------------------------------------------------------------------\u001b[0m",
      "\u001b[0;31mIndexError\u001b[0m                                Traceback (most recent call last)",
      "Cell \u001b[0;32mIn[5], line 1\u001b[0m\n\u001b[0;32m----> 1\u001b[0m \u001b[43ml\u001b[49m\u001b[43m[\u001b[49m\u001b[38;5;241;43m90\u001b[39;49m\u001b[43m]\u001b[49m\n",
      "\u001b[0;31mIndexError\u001b[0m: list index out of range"
     ]
    }
   ],
   "source": [
    "l[90]"
   ]
  },
  {
   "cell_type": "code",
   "execution_count": 6,
   "id": "feef9fd0-cef2-41d6-9f4f-da1b8f286b05",
   "metadata": {},
   "outputs": [
    {
     "data": {
      "text/plain": [
       "[1, 343, 45]"
      ]
     },
     "execution_count": 6,
     "metadata": {},
     "output_type": "execute_result"
    }
   ],
   "source": [
    "l[0:3]"
   ]
  },
  {
   "cell_type": "code",
   "execution_count": 7,
   "id": "68eafaca-f113-450f-8029-2e63ca46c9b2",
   "metadata": {},
   "outputs": [
    {
     "data": {
      "text/plain": [
       "25.34"
      ]
     },
     "execution_count": 7,
     "metadata": {},
     "output_type": "execute_result"
    }
   ],
   "source": [
    "l[-1]"
   ]
  },
  {
   "cell_type": "code",
   "execution_count": 8,
   "id": "6c3407e6-4f63-46a5-b77f-f3cd8b023553",
   "metadata": {},
   "outputs": [
    {
     "data": {
      "text/plain": [
       "[25.34, (5+7j), True, 'Tiyasha', 45, 343, 1]"
      ]
     },
     "execution_count": 8,
     "metadata": {},
     "output_type": "execute_result"
    }
   ],
   "source": [
    "l[::-1]"
   ]
  },
  {
   "cell_type": "code",
   "execution_count": 9,
   "id": "48cdc925-7a5c-4c58-9f5e-7eb4e80ae370",
   "metadata": {},
   "outputs": [
    {
     "data": {
      "text/plain": [
       "[1, 45, True, 25.34]"
      ]
     },
     "execution_count": 9,
     "metadata": {},
     "output_type": "execute_result"
    }
   ],
   "source": [
    "l[0:7:2]"
   ]
  },
  {
   "cell_type": "code",
   "execution_count": 10,
   "id": "5a40fd42-c238-4c80-9588-62db689aa885",
   "metadata": {},
   "outputs": [
    {
     "data": {
      "text/plain": [
       "[1, 45, True, 25.34]"
      ]
     },
     "execution_count": 10,
     "metadata": {},
     "output_type": "execute_result"
    }
   ],
   "source": [
    "l[::2]"
   ]
  },
  {
   "cell_type": "code",
   "execution_count": 11,
   "id": "bb9f53b6-d0a4-4e41-b769-01b53a45eab6",
   "metadata": {},
   "outputs": [],
   "source": [
    "s=\"pwskills\""
   ]
  },
  {
   "cell_type": "code",
   "execution_count": 12,
   "id": "2d4e6f48-79a1-4969-a454-751dcbbeade8",
   "metadata": {},
   "outputs": [
    {
     "ename": "TypeError",
     "evalue": "can only concatenate list (not \"str\") to list",
     "output_type": "error",
     "traceback": [
      "\u001b[0;31m---------------------------------------------------------------------------\u001b[0m",
      "\u001b[0;31mTypeError\u001b[0m                                 Traceback (most recent call last)",
      "Cell \u001b[0;32mIn[12], line 1\u001b[0m\n\u001b[0;32m----> 1\u001b[0m \u001b[43ml\u001b[49m\u001b[38;5;241;43m+\u001b[39;49m\u001b[43ms\u001b[49m\n",
      "\u001b[0;31mTypeError\u001b[0m: can only concatenate list (not \"str\") to list"
     ]
    }
   ],
   "source": [
    "l+s"
   ]
  },
  {
   "cell_type": "code",
   "execution_count": 13,
   "id": "6d73c460-a6c7-4e3a-b17b-843cc96dedbd",
   "metadata": {},
   "outputs": [
    {
     "data": {
      "text/plain": [
       "['p', 'w', 's', 'k', 'i', 'l', 'l', 's']"
      ]
     },
     "execution_count": 13,
     "metadata": {},
     "output_type": "execute_result"
    }
   ],
   "source": [
    "list(s)"
   ]
  },
  {
   "cell_type": "code",
   "execution_count": 14,
   "id": "992fdec5-9e5c-4d0c-a30e-77a42276cf9f",
   "metadata": {},
   "outputs": [
    {
     "data": {
      "text/plain": [
       "['p',\n",
       " 'w',\n",
       " 's',\n",
       " 'k',\n",
       " 'i',\n",
       " 'l',\n",
       " 'l',\n",
       " 's',\n",
       " 1,\n",
       " 343,\n",
       " 45,\n",
       " 'Tiyasha',\n",
       " True,\n",
       " (5+7j),\n",
       " 25.34]"
      ]
     },
     "execution_count": 14,
     "metadata": {},
     "output_type": "execute_result"
    }
   ],
   "source": [
    "list(s)+l"
   ]
  },
  {
   "cell_type": "code",
   "execution_count": 15,
   "id": "4adc5d47-ad03-4b6b-9eed-542371fadc15",
   "metadata": {},
   "outputs": [
    {
     "data": {
      "text/plain": [
       "'Tiyasha'"
      ]
     },
     "execution_count": 15,
     "metadata": {},
     "output_type": "execute_result"
    }
   ],
   "source": [
    "l[3]"
   ]
  },
  {
   "cell_type": "code",
   "execution_count": 16,
   "id": "9ae5fe26-3ed1-4c4b-9df6-b88f10f428bb",
   "metadata": {},
   "outputs": [
    {
     "data": {
      "text/plain": [
       "str"
      ]
     },
     "execution_count": 16,
     "metadata": {},
     "output_type": "execute_result"
    }
   ],
   "source": [
    "type(l[3])"
   ]
  },
  {
   "cell_type": "code",
   "execution_count": 17,
   "id": "e88c7a81-13ab-4da2-9858-f20fde219de4",
   "metadata": {},
   "outputs": [
    {
     "data": {
      "text/plain": [
       "'Ti'"
      ]
     },
     "execution_count": 17,
     "metadata": {},
     "output_type": "execute_result"
    }
   ],
   "source": [
    "l[3][0:2]"
   ]
  },
  {
   "cell_type": "code",
   "execution_count": 18,
   "id": "6b8b28e1-8ad0-40dc-b5db-42af9ff55dc5",
   "metadata": {},
   "outputs": [
    {
     "data": {
      "text/plain": [
       "'Ty'"
      ]
     },
     "execution_count": 18,
     "metadata": {},
     "output_type": "execute_result"
    }
   ],
   "source": [
    "l[3][0:4:2]"
   ]
  },
  {
   "cell_type": "code",
   "execution_count": 19,
   "id": "97d27a6b-0d86-46e9-a7cf-56895edb2745",
   "metadata": {},
   "outputs": [
    {
     "data": {
      "text/plain": [
       "True"
      ]
     },
     "execution_count": 19,
     "metadata": {},
     "output_type": "execute_result"
    }
   ],
   "source": [
    "l[4]"
   ]
  },
  {
   "cell_type": "code",
   "execution_count": 20,
   "id": "adb69a9f-869a-4463-b0f5-dbc6626bae99",
   "metadata": {},
   "outputs": [
    {
     "data": {
      "text/plain": [
       "'Tr'"
      ]
     },
     "execution_count": 20,
     "metadata": {},
     "output_type": "execute_result"
    }
   ],
   "source": [
    "str(l[4])[0:2]"
   ]
  },
  {
   "cell_type": "code",
   "execution_count": 21,
   "id": "369649ef-232d-4fac-be4e-76e7588bc866",
   "metadata": {},
   "outputs": [
    {
     "ename": "TypeError",
     "evalue": "can only concatenate list (not \"int\") to list",
     "output_type": "error",
     "traceback": [
      "\u001b[0;31m---------------------------------------------------------------------------\u001b[0m",
      "\u001b[0;31mTypeError\u001b[0m                                 Traceback (most recent call last)",
      "Cell \u001b[0;32mIn[21], line 1\u001b[0m\n\u001b[0;32m----> 1\u001b[0m \u001b[43ml\u001b[49m\u001b[38;5;241;43m+\u001b[39;49m\u001b[38;5;241;43m5\u001b[39;49m\n",
      "\u001b[0;31mTypeError\u001b[0m: can only concatenate list (not \"int\") to list"
     ]
    }
   ],
   "source": [
    "l+5"
   ]
  },
  {
   "cell_type": "code",
   "execution_count": 22,
   "id": "cce2e324-ac3c-4a20-8655-f61479c70f62",
   "metadata": {},
   "outputs": [
    {
     "data": {
      "text/plain": [
       "[1, 343, 45, 'Tiyasha', True, (5+7j), 25.34, 3, 4, 5]"
      ]
     },
     "execution_count": 22,
     "metadata": {},
     "output_type": "execute_result"
    }
   ],
   "source": [
    "l1=[3,4,5]\n",
    "l+l1"
   ]
  },
  {
   "cell_type": "code",
   "execution_count": 23,
   "id": "bc832b6a-0cb2-4ea0-89af-b2f4c4efcc05",
   "metadata": {},
   "outputs": [
    {
     "data": {
      "text/plain": [
       "[3, 4, 5, 3, 4, 5, 3, 4, 5]"
      ]
     },
     "execution_count": 23,
     "metadata": {},
     "output_type": "execute_result"
    }
   ],
   "source": [
    "l1 * 3"
   ]
  },
  {
   "cell_type": "code",
   "execution_count": 24,
   "id": "2dd67bda-a59b-4953-9ba6-4ebe60ea7f4b",
   "metadata": {},
   "outputs": [
    {
     "data": {
      "text/plain": [
       "7"
      ]
     },
     "execution_count": 24,
     "metadata": {},
     "output_type": "execute_result"
    }
   ],
   "source": [
    "len(l)"
   ]
  },
  {
   "cell_type": "code",
   "execution_count": 25,
   "id": "157ef620-d62b-437c-b202-313b9cb0fd82",
   "metadata": {},
   "outputs": [
    {
     "data": {
      "text/plain": [
       "[1, 343, 45, 'Tiyasha', True, (5+7j), 25.34]"
      ]
     },
     "execution_count": 25,
     "metadata": {},
     "output_type": "execute_result"
    }
   ],
   "source": [
    "l"
   ]
  },
  {
   "cell_type": "code",
   "execution_count": 26,
   "id": "65c91e0f-ae72-49de-8faf-ec2f6c3a42f7",
   "metadata": {},
   "outputs": [],
   "source": [
    "l.append(6)  #append in-build function"
   ]
  },
  {
   "cell_type": "code",
   "execution_count": 27,
   "id": "787a789d-0815-4477-9a7f-9cd731a8f1fc",
   "metadata": {},
   "outputs": [
    {
     "data": {
      "text/plain": [
       "[1, 343, 45, 'Tiyasha', True, (5+7j), 25.34, 6]"
      ]
     },
     "execution_count": 27,
     "metadata": {},
     "output_type": "execute_result"
    }
   ],
   "source": [
    "l"
   ]
  },
  {
   "cell_type": "code",
   "execution_count": 28,
   "id": "70b68ad3-3ec2-47d9-8af0-f69f9cddde01",
   "metadata": {},
   "outputs": [
    {
     "data": {
      "text/plain": [
       "'pwskills'"
      ]
     },
     "execution_count": 28,
     "metadata": {},
     "output_type": "execute_result"
    }
   ],
   "source": [
    "s"
   ]
  },
  {
   "cell_type": "code",
   "execution_count": 29,
   "id": "5c02169e-eaac-40c6-9b68-f8b52b58d8ad",
   "metadata": {},
   "outputs": [],
   "source": [
    "l.append(s)  # Append object to the end of the list."
   ]
  },
  {
   "cell_type": "code",
   "execution_count": 30,
   "id": "c72d9b06-f709-46c9-be65-87fe0d38c254",
   "metadata": {},
   "outputs": [
    {
     "data": {
      "text/plain": [
       "[1, 343, 45, 'Tiyasha', True, (5+7j), 25.34, 6, 'pwskills']"
      ]
     },
     "execution_count": 30,
     "metadata": {},
     "output_type": "execute_result"
    }
   ],
   "source": [
    "l"
   ]
  },
  {
   "cell_type": "code",
   "execution_count": 31,
   "id": "b1377ab8-2b03-4644-9756-8fbbed44a2e9",
   "metadata": {},
   "outputs": [
    {
     "data": {
      "text/plain": [
       "[3, 4, 5]"
      ]
     },
     "execution_count": 31,
     "metadata": {},
     "output_type": "execute_result"
    }
   ],
   "source": [
    "l1"
   ]
  },
  {
   "cell_type": "code",
   "execution_count": 32,
   "id": "c28b6127-2982-439f-8de9-18f5d65f3e9c",
   "metadata": {},
   "outputs": [],
   "source": [
    "l.append(l1)"
   ]
  },
  {
   "cell_type": "code",
   "execution_count": 33,
   "id": "7c3ce187-0577-4589-b5c6-9ca367a34b8e",
   "metadata": {},
   "outputs": [
    {
     "data": {
      "text/plain": [
       "[1, 343, 45, 'Tiyasha', True, (5+7j), 25.34, 6, 'pwskills', [3, 4, 5]]"
      ]
     },
     "execution_count": 33,
     "metadata": {},
     "output_type": "execute_result"
    }
   ],
   "source": [
    "l"
   ]
  },
  {
   "cell_type": "code",
   "execution_count": 34,
   "id": "dd79ad72-5fa6-432e-9972-44c28f2dd9f2",
   "metadata": {},
   "outputs": [
    {
     "data": {
      "text/plain": [
       "[3, 4, 5]"
      ]
     },
     "execution_count": 34,
     "metadata": {},
     "output_type": "execute_result"
    }
   ],
   "source": [
    "l[-1]"
   ]
  },
  {
   "cell_type": "code",
   "execution_count": 35,
   "id": "f1b6d886-f644-4be3-9993-d1c5d1b0778a",
   "metadata": {},
   "outputs": [
    {
     "data": {
      "text/plain": [
       "4"
      ]
     },
     "execution_count": 35,
     "metadata": {},
     "output_type": "execute_result"
    }
   ],
   "source": [
    "l[-1][1]"
   ]
  },
  {
   "cell_type": "code",
   "execution_count": 36,
   "id": "906aa558-2c68-43b3-9525-c82d66cb22fb",
   "metadata": {},
   "outputs": [
    {
     "data": {
      "text/plain": [
       "[1, 343, 45, 'Tiyasha', True, (5+7j), 25.34, 6, 'pwskills', [3, 4, 5]]"
      ]
     },
     "execution_count": 36,
     "metadata": {},
     "output_type": "execute_result"
    }
   ],
   "source": [
    "l"
   ]
  },
  {
   "cell_type": "code",
   "execution_count": 37,
   "id": "a0aaca76-4e7e-490a-950b-a209098c0737",
   "metadata": {},
   "outputs": [
    {
     "ename": "TypeError",
     "evalue": "'int' object is not iterable",
     "output_type": "error",
     "traceback": [
      "\u001b[0;31m---------------------------------------------------------------------------\u001b[0m",
      "\u001b[0;31mTypeError\u001b[0m                                 Traceback (most recent call last)",
      "Cell \u001b[0;32mIn[37], line 1\u001b[0m\n\u001b[0;32m----> 1\u001b[0m \u001b[43ml\u001b[49m\u001b[38;5;241;43m.\u001b[39;49m\u001b[43mextend\u001b[49m\u001b[43m(\u001b[49m\u001b[38;5;241;43m4\u001b[39;49m\u001b[43m)\u001b[49m \u001b[38;5;66;03m#Extend list by appending elements from the iterable.\u001b[39;00m\n",
      "\u001b[0;31mTypeError\u001b[0m: 'int' object is not iterable"
     ]
    }
   ],
   "source": [
    "l.extend(4) #Extend list by appending elements from the iterable."
   ]
  },
  {
   "cell_type": "code",
   "execution_count": 38,
   "id": "c00c0db2-654b-4125-be25-6d3ad22f36a4",
   "metadata": {},
   "outputs": [],
   "source": [
    "l.extend(\"Tiya\")"
   ]
  },
  {
   "cell_type": "code",
   "execution_count": 39,
   "id": "440e12bc-719a-4e13-92bf-2e13dabf416e",
   "metadata": {},
   "outputs": [
    {
     "data": {
      "text/plain": [
       "[1,\n",
       " 343,\n",
       " 45,\n",
       " 'Tiyasha',\n",
       " True,\n",
       " (5+7j),\n",
       " 25.34,\n",
       " 6,\n",
       " 'pwskills',\n",
       " [3, 4, 5],\n",
       " 'T',\n",
       " 'i',\n",
       " 'y',\n",
       " 'a']"
      ]
     },
     "execution_count": 39,
     "metadata": {},
     "output_type": "execute_result"
    }
   ],
   "source": [
    "l"
   ]
  },
  {
   "cell_type": "code",
   "execution_count": 40,
   "id": "b6623aa4-5df3-4827-8e02-69a75b3a482a",
   "metadata": {},
   "outputs": [
    {
     "data": {
      "text/plain": [
       "[1,\n",
       " 343,\n",
       " 45,\n",
       " 'Tiyasha',\n",
       " True,\n",
       " (5+7j),\n",
       " 25.34,\n",
       " 6,\n",
       " 'pwskills',\n",
       " [3, 4, 5],\n",
       " 'T',\n",
       " 'i',\n",
       " 'y',\n",
       " 'a',\n",
       " 6,\n",
       " 7,\n",
       " 8]"
      ]
     },
     "execution_count": 40,
     "metadata": {},
     "output_type": "execute_result"
    }
   ],
   "source": [
    "l.extend([6,7,8])\n",
    "l"
   ]
  },
  {
   "cell_type": "code",
   "execution_count": 41,
   "id": "31d2a732-54d7-44c6-8a87-85b2e3f20244",
   "metadata": {},
   "outputs": [
    {
     "data": {
      "text/plain": [
       "[3, 4, 5]"
      ]
     },
     "execution_count": 41,
     "metadata": {},
     "output_type": "execute_result"
    }
   ],
   "source": [
    "l1"
   ]
  },
  {
   "cell_type": "code",
   "execution_count": 42,
   "id": "bc1e5b99-04f5-488c-8295-53361db14f20",
   "metadata": {},
   "outputs": [],
   "source": [
    "l1.insert(0,1)   #Insert object before index."
   ]
  },
  {
   "cell_type": "code",
   "execution_count": 43,
   "id": "7547db28-ebd4-4bae-99e2-a165918287f3",
   "metadata": {},
   "outputs": [
    {
     "data": {
      "text/plain": [
       "[1, 3, 4, 5]"
      ]
     },
     "execution_count": 43,
     "metadata": {},
     "output_type": "execute_result"
    }
   ],
   "source": [
    "l1"
   ]
  },
  {
   "cell_type": "code",
   "execution_count": 44,
   "id": "a3b5270e-513f-4f3a-ab59-554426947ff7",
   "metadata": {},
   "outputs": [],
   "source": [
    "l1.insert(1,2)  #insert(index,object) object means which data you passing"
   ]
  },
  {
   "cell_type": "code",
   "execution_count": 45,
   "id": "dc2853ce-5ce9-44f6-a21c-d0000619c9c0",
   "metadata": {},
   "outputs": [
    {
     "data": {
      "text/plain": [
       "[1, 2, 3, 4, 5]"
      ]
     },
     "execution_count": 45,
     "metadata": {},
     "output_type": "execute_result"
    }
   ],
   "source": [
    "l1"
   ]
  },
  {
   "cell_type": "code",
   "execution_count": 46,
   "id": "dfe774f3-de6f-481c-88ba-85bb96fc0635",
   "metadata": {},
   "outputs": [],
   "source": [
    "l1.insert(2,\"Tiyasha\")"
   ]
  },
  {
   "cell_type": "code",
   "execution_count": 47,
   "id": "e580997e-711b-44d1-9a36-ca4a3449c2ad",
   "metadata": {},
   "outputs": [
    {
     "data": {
      "text/plain": [
       "[1, 2, 'Tiyasha', 3, 4, 5]"
      ]
     },
     "execution_count": 47,
     "metadata": {},
     "output_type": "execute_result"
    }
   ],
   "source": [
    "l1"
   ]
  },
  {
   "cell_type": "code",
   "execution_count": 48,
   "id": "8f2fe663-7c7a-4878-bfc1-db3125138610",
   "metadata": {},
   "outputs": [
    {
     "data": {
      "text/plain": [
       "[1, 2, [1, 2, 3], 'Tiyasha', 3, 4, 5]"
      ]
     },
     "execution_count": 48,
     "metadata": {},
     "output_type": "execute_result"
    }
   ],
   "source": [
    "l1.insert(2,[1,2,3])\n",
    "l1"
   ]
  },
  {
   "cell_type": "code",
   "execution_count": 49,
   "id": "aeadf7de-27d5-441f-8432-3066b1004442",
   "metadata": {},
   "outputs": [],
   "source": [
    "l1.insert(-1,45)"
   ]
  },
  {
   "cell_type": "code",
   "execution_count": 50,
   "id": "99922262-4216-40a7-83c0-62d87d0151d5",
   "metadata": {},
   "outputs": [
    {
     "data": {
      "text/plain": [
       "[1, 2, [1, 2, 3], 'Tiyasha', 3, 4, 45, 5]"
      ]
     },
     "execution_count": 50,
     "metadata": {},
     "output_type": "execute_result"
    }
   ],
   "source": [
    "l1"
   ]
  },
  {
   "cell_type": "code",
   "execution_count": 51,
   "id": "93c5ff0b-de8e-4c87-9819-398d04943f78",
   "metadata": {},
   "outputs": [],
   "source": [
    "l1.insert(0,45)"
   ]
  },
  {
   "cell_type": "code",
   "execution_count": 52,
   "id": "6bb0921c-debc-4f08-94c2-ae61c6905e12",
   "metadata": {},
   "outputs": [
    {
     "data": {
      "text/plain": [
       "[45, 1, 2, [1, 2, 3], 'Tiyasha', 3, 4, 45, 5]"
      ]
     },
     "execution_count": 52,
     "metadata": {},
     "output_type": "execute_result"
    }
   ],
   "source": [
    "l1"
   ]
  },
  {
   "cell_type": "code",
   "execution_count": 53,
   "id": "d2348890-5571-40b7-ae61-8241f5f9a780",
   "metadata": {},
   "outputs": [
    {
     "data": {
      "text/plain": [
       "5"
      ]
     },
     "execution_count": 53,
     "metadata": {},
     "output_type": "execute_result"
    }
   ],
   "source": [
    "l1.pop()  #Remove and return item at index (default last)."
   ]
  },
  {
   "cell_type": "code",
   "execution_count": 54,
   "id": "486d70fc-98d0-485a-9eef-a092921a2ebf",
   "metadata": {},
   "outputs": [
    {
     "data": {
      "text/plain": [
       "[45, 1, 2, [1, 2, 3], 'Tiyasha', 3, 4, 45]"
      ]
     },
     "execution_count": 54,
     "metadata": {},
     "output_type": "execute_result"
    }
   ],
   "source": [
    "l1"
   ]
  },
  {
   "cell_type": "code",
   "execution_count": 55,
   "id": "7934c2c1-7657-415a-b050-9fb4ecc2a6f6",
   "metadata": {},
   "outputs": [
    {
     "data": {
      "text/plain": [
       "45"
      ]
     },
     "execution_count": 55,
     "metadata": {},
     "output_type": "execute_result"
    }
   ],
   "source": [
    "l1.pop() #default index -1 pop having"
   ]
  },
  {
   "cell_type": "code",
   "execution_count": 56,
   "id": "5a7a3807-0415-4e9a-a217-40f9f6e10eff",
   "metadata": {},
   "outputs": [
    {
     "data": {
      "text/plain": [
       "[45, 1, 2, [1, 2, 3], 'Tiyasha', 3, 4]"
      ]
     },
     "execution_count": 56,
     "metadata": {},
     "output_type": "execute_result"
    }
   ],
   "source": [
    "l1"
   ]
  },
  {
   "cell_type": "code",
   "execution_count": 57,
   "id": "9ddf2c05-eea8-4133-a89e-17d1aa608564",
   "metadata": {},
   "outputs": [
    {
     "data": {
      "text/plain": [
       "2"
      ]
     },
     "execution_count": 57,
     "metadata": {},
     "output_type": "execute_result"
    }
   ],
   "source": [
    "l1.pop(2)"
   ]
  },
  {
   "cell_type": "code",
   "execution_count": 58,
   "id": "628a3c6f-8653-4221-ace0-8152b30b00b3",
   "metadata": {},
   "outputs": [
    {
     "data": {
      "text/plain": [
       "[45, 1, [1, 2, 3], 'Tiyasha', 3, 4]"
      ]
     },
     "execution_count": 58,
     "metadata": {},
     "output_type": "execute_result"
    }
   ],
   "source": [
    "l1"
   ]
  },
  {
   "cell_type": "code",
   "execution_count": 59,
   "id": "1cd6dfb0-4579-4d7b-a8d7-ab219d63479d",
   "metadata": {},
   "outputs": [
    {
     "data": {
      "text/plain": [
       "45"
      ]
     },
     "execution_count": 59,
     "metadata": {},
     "output_type": "execute_result"
    }
   ],
   "source": [
    "l1.pop(0)"
   ]
  },
  {
   "cell_type": "code",
   "execution_count": 60,
   "id": "d323b12e-30d7-45f9-8c29-6f04bb777ed3",
   "metadata": {},
   "outputs": [
    {
     "data": {
      "text/plain": [
       "[1, [1, 2, 3], 'Tiyasha', 3, 4]"
      ]
     },
     "execution_count": 60,
     "metadata": {},
     "output_type": "execute_result"
    }
   ],
   "source": [
    "l1"
   ]
  },
  {
   "cell_type": "code",
   "execution_count": 61,
   "id": "9f7516a6-eac4-4171-bac0-f4ef9f8218fc",
   "metadata": {},
   "outputs": [],
   "source": [
    "l1.remove([1,2,3])  #Remove first occurrence of value. remove(value)"
   ]
  },
  {
   "cell_type": "code",
   "execution_count": 62,
   "id": "97655b8e-9bc4-41cb-9279-f418e535b141",
   "metadata": {},
   "outputs": [
    {
     "data": {
      "text/plain": [
       "[1, 'Tiyasha', 3, 4]"
      ]
     },
     "execution_count": 62,
     "metadata": {},
     "output_type": "execute_result"
    }
   ],
   "source": [
    "l1"
   ]
  },
  {
   "cell_type": "code",
   "execution_count": 63,
   "id": "c596a0fa-3988-4558-aca2-178f57a710ce",
   "metadata": {},
   "outputs": [
    {
     "ename": "ValueError",
     "evalue": "list.remove(x): x not in list",
     "output_type": "error",
     "traceback": [
      "\u001b[0;31m---------------------------------------------------------------------------\u001b[0m",
      "\u001b[0;31mValueError\u001b[0m                                Traceback (most recent call last)",
      "Cell \u001b[0;32mIn[63], line 1\u001b[0m\n\u001b[0;32m----> 1\u001b[0m \u001b[43ml1\u001b[49m\u001b[38;5;241;43m.\u001b[39;49m\u001b[43mremove\u001b[49m\u001b[43m(\u001b[49m\u001b[38;5;241;43m234\u001b[39;49m\u001b[43m)\u001b[49m\n",
      "\u001b[0;31mValueError\u001b[0m: list.remove(x): x not in list"
     ]
    }
   ],
   "source": [
    "l1.remove(234)"
   ]
  },
  {
   "cell_type": "code",
   "execution_count": 64,
   "id": "8ff67df0-abe9-4477-ab87-669459072a50",
   "metadata": {},
   "outputs": [],
   "source": [
    "l1.append([1,3,4])"
   ]
  },
  {
   "cell_type": "code",
   "execution_count": 65,
   "id": "b94253e5-1800-4bc8-a360-90837ae01f39",
   "metadata": {},
   "outputs": [
    {
     "data": {
      "text/plain": [
       "[1, 'Tiyasha', 3, 4, [1, 3, 4]]"
      ]
     },
     "execution_count": 65,
     "metadata": {},
     "output_type": "execute_result"
    }
   ],
   "source": [
    "l1"
   ]
  },
  {
   "cell_type": "code",
   "execution_count": 66,
   "id": "8fcb1126-461a-46f2-bc1e-402bcc8204fb",
   "metadata": {},
   "outputs": [],
   "source": [
    "l1.remove(3)"
   ]
  },
  {
   "cell_type": "code",
   "execution_count": 67,
   "id": "81cc1cd6-3098-4b06-974b-6856d40f9cb7",
   "metadata": {},
   "outputs": [
    {
     "data": {
      "text/plain": [
       "[1, 'Tiyasha', 4, [1, 3, 4]]"
      ]
     },
     "execution_count": 67,
     "metadata": {},
     "output_type": "execute_result"
    }
   ],
   "source": [
    "l1"
   ]
  },
  {
   "cell_type": "code",
   "execution_count": 68,
   "id": "0d274e04-b3f6-4bc8-a819-c6a82979c37b",
   "metadata": {},
   "outputs": [
    {
     "ename": "ValueError",
     "evalue": "list.remove(x): x not in list",
     "output_type": "error",
     "traceback": [
      "\u001b[0;31m---------------------------------------------------------------------------\u001b[0m",
      "\u001b[0;31mValueError\u001b[0m                                Traceback (most recent call last)",
      "Cell \u001b[0;32mIn[68], line 1\u001b[0m\n\u001b[0;32m----> 1\u001b[0m \u001b[43ml1\u001b[49m\u001b[38;5;241;43m.\u001b[39;49m\u001b[43mremove\u001b[49m\u001b[43m(\u001b[49m\u001b[38;5;241;43m3\u001b[39;49m\u001b[43m)\u001b[49m\n\u001b[1;32m      2\u001b[0m l1\n",
      "\u001b[0;31mValueError\u001b[0m: list.remove(x): x not in list"
     ]
    }
   ],
   "source": [
    "l1.remove(3)\n",
    "l1"
   ]
  },
  {
   "cell_type": "code",
   "execution_count": 69,
   "id": "1d37ca1d-6c97-40d2-b6ca-3f80b21aebec",
   "metadata": {},
   "outputs": [
    {
     "data": {
      "text/plain": [
       "[1, 3, 4]"
      ]
     },
     "execution_count": 69,
     "metadata": {},
     "output_type": "execute_result"
    }
   ],
   "source": [
    "l1[3]"
   ]
  },
  {
   "cell_type": "code",
   "execution_count": 70,
   "id": "76f8a5f5-8fa1-4201-b7c6-cf2a81dad91d",
   "metadata": {},
   "outputs": [],
   "source": [
    "l1[3].remove(3)"
   ]
  },
  {
   "cell_type": "code",
   "execution_count": 71,
   "id": "e83132f7-fbb6-4811-98be-11c754ae7cab",
   "metadata": {},
   "outputs": [
    {
     "data": {
      "text/plain": [
       "[1, 'Tiyasha', 4, [1, 4]]"
      ]
     },
     "execution_count": 71,
     "metadata": {},
     "output_type": "execute_result"
    }
   ],
   "source": [
    "l1"
   ]
  },
  {
   "cell_type": "markdown",
   "id": "041edf9a-ba8d-4555-b133-fea711e486b3",
   "metadata": {},
   "source": [
    "string is a immutable that's why \"Tiyasha\" 's \"sha\" is not remove  "
   ]
  },
  {
   "cell_type": "code",
   "execution_count": 72,
   "id": "7d5beb3b-7fc9-479b-a065-c9718bf3ca7e",
   "metadata": {},
   "outputs": [
    {
     "data": {
      "text/plain": [
       "[1, 'Tiyasha', 4, [1, 4], 4]"
      ]
     },
     "execution_count": 72,
     "metadata": {},
     "output_type": "execute_result"
    }
   ],
   "source": [
    "l1.append(4)\n",
    "l1"
   ]
  },
  {
   "cell_type": "code",
   "execution_count": 73,
   "id": "e9999505-3e99-46eb-a7cc-27b502faf218",
   "metadata": {},
   "outputs": [],
   "source": [
    "l1.remove(4)"
   ]
  },
  {
   "cell_type": "code",
   "execution_count": 74,
   "id": "41f1abbe-c027-433e-a879-55afdd5c0c33",
   "metadata": {},
   "outputs": [
    {
     "data": {
      "text/plain": [
       "[1, 'Tiyasha', [1, 4], 4]"
      ]
     },
     "execution_count": 74,
     "metadata": {},
     "output_type": "execute_result"
    }
   ],
   "source": [
    "l1"
   ]
  },
  {
   "cell_type": "code",
   "execution_count": 75,
   "id": "d9ed1f51-f13a-4a73-bc6c-4dcc448a5b1e",
   "metadata": {},
   "outputs": [
    {
     "data": {
      "text/plain": [
       "[4, [1, 4], 'Tiyasha', 1]"
      ]
     },
     "execution_count": 75,
     "metadata": {},
     "output_type": "execute_result"
    }
   ],
   "source": [
    "l1[::-1]    # it is temporary reverse or outcome reverse"
   ]
  },
  {
   "cell_type": "code",
   "execution_count": 76,
   "id": "b822aea1-37bb-467c-9fe4-f7933a0f6b7d",
   "metadata": {},
   "outputs": [
    {
     "data": {
      "text/plain": [
       "[4, [1, 4], 'Tiyasha', 1]"
      ]
     },
     "execution_count": 76,
     "metadata": {},
     "output_type": "execute_result"
    }
   ],
   "source": [
    "l1.reverse()   # original list is manipulate or reverse\n",
    "l1"
   ]
  },
  {
   "cell_type": "code",
   "execution_count": 77,
   "id": "fc7e9a94-e794-4d5c-b708-b2d780681422",
   "metadata": {},
   "outputs": [
    {
     "data": {
      "text/plain": [
       "[1, 'Tiyasha', [1, 4], 4]"
      ]
     },
     "execution_count": 77,
     "metadata": {},
     "output_type": "execute_result"
    }
   ],
   "source": [
    "l1=l1[::-1] #permanent reverse \n",
    "l1"
   ]
  },
  {
   "cell_type": "code",
   "execution_count": 78,
   "id": "ae31fdaa-dcb4-45fc-b145-5fd902285a40",
   "metadata": {},
   "outputs": [
    {
     "ename": "TypeError",
     "evalue": "'<' not supported between instances of 'str' and 'int'",
     "output_type": "error",
     "traceback": [
      "\u001b[0;31m---------------------------------------------------------------------------\u001b[0m",
      "\u001b[0;31mTypeError\u001b[0m                                 Traceback (most recent call last)",
      "Cell \u001b[0;32mIn[78], line 1\u001b[0m\n\u001b[0;32m----> 1\u001b[0m \u001b[43ml1\u001b[49m\u001b[38;5;241;43m.\u001b[39;49m\u001b[43msort\u001b[49m\u001b[43m(\u001b[49m\u001b[43m)\u001b[49m\n",
      "\u001b[0;31mTypeError\u001b[0m: '<' not supported between instances of 'str' and 'int'"
     ]
    }
   ],
   "source": [
    "l1.sort()"
   ]
  },
  {
   "cell_type": "code",
   "execution_count": 79,
   "id": "929da14c-2dae-4f0b-bed4-eb93e0d19450",
   "metadata": {},
   "outputs": [],
   "source": [
    "l2=[3,1,2,6,5,4,7,9,8]"
   ]
  },
  {
   "cell_type": "code",
   "execution_count": 80,
   "id": "51bc6bac-c122-4d6b-99fd-88a0562a9ef0",
   "metadata": {},
   "outputs": [],
   "source": [
    "l2.sort()"
   ]
  },
  {
   "cell_type": "code",
   "execution_count": 81,
   "id": "bf388223-9090-4cbe-9031-9e60d24d4b55",
   "metadata": {},
   "outputs": [
    {
     "data": {
      "text/plain": [
       "[1, 2, 3, 4, 5, 6, 7, 8, 9]"
      ]
     },
     "execution_count": 81,
     "metadata": {},
     "output_type": "execute_result"
    }
   ],
   "source": [
    "l2"
   ]
  },
  {
   "cell_type": "code",
   "execution_count": 82,
   "id": "1c73b97a-bb36-4bfc-9629-6e890f5e9aab",
   "metadata": {},
   "outputs": [
    {
     "ename": "TypeError",
     "evalue": "'<' not supported between instances of 'str' and 'int'",
     "output_type": "error",
     "traceback": [
      "\u001b[0;31m---------------------------------------------------------------------------\u001b[0m",
      "\u001b[0;31mTypeError\u001b[0m                                 Traceback (most recent call last)",
      "Cell \u001b[0;32mIn[82], line 2\u001b[0m\n\u001b[1;32m      1\u001b[0m l3\u001b[38;5;241m=\u001b[39m[\u001b[38;5;241m45\u001b[39m,\u001b[38;5;124m\"\u001b[39m\u001b[38;5;124mTiyasha\u001b[39m\u001b[38;5;124m\"\u001b[39m,\u001b[38;5;241m22\u001b[39m,\u001b[38;5;124m\"\u001b[39m\u001b[38;5;124mNeogi\u001b[39m\u001b[38;5;124m\"\u001b[39m]\n\u001b[0;32m----> 2\u001b[0m \u001b[43ml3\u001b[49m\u001b[38;5;241;43m.\u001b[39;49m\u001b[43msort\u001b[49m\u001b[43m(\u001b[49m\u001b[43m)\u001b[49m\n",
      "\u001b[0;31mTypeError\u001b[0m: '<' not supported between instances of 'str' and 'int'"
     ]
    }
   ],
   "source": [
    "l3=[45,\"Tiyasha\",22,\"Neogi\"]\n",
    "l3.sort()"
   ]
  },
  {
   "cell_type": "code",
   "execution_count": 83,
   "id": "344c5500-69f0-428b-8391-9cfd31daf74d",
   "metadata": {},
   "outputs": [],
   "source": [
    "l4=[\"Data science\",\"Tiyasha\",\"Neogi\",\"pwskils\"]\n",
    "l4.sort()"
   ]
  },
  {
   "cell_type": "code",
   "execution_count": 84,
   "id": "4996cac3-2866-4ed1-8220-861a4a5c60b3",
   "metadata": {},
   "outputs": [
    {
     "data": {
      "text/plain": [
       "['Data science', 'Neogi', 'Tiyasha', 'pwskils']"
      ]
     },
     "execution_count": 84,
     "metadata": {},
     "output_type": "execute_result"
    }
   ],
   "source": [
    "l4"
   ]
  },
  {
   "cell_type": "code",
   "execution_count": 85,
   "id": "1153e01e-aab0-480f-9e8d-df17f4d93379",
   "metadata": {},
   "outputs": [
    {
     "data": {
      "text/plain": [
       "['pwskils', 'Tiyasha', 'Neogi', 'Data science']"
      ]
     },
     "execution_count": 85,
     "metadata": {},
     "output_type": "execute_result"
    }
   ],
   "source": [
    "l4.sort(reverse=True)\n",
    "l4"
   ]
  },
  {
   "cell_type": "code",
   "execution_count": 86,
   "id": "95bd7f62-a1cc-4eb1-9cbc-fc219ba49a53",
   "metadata": {},
   "outputs": [
    {
     "data": {
      "text/plain": [
       "1"
      ]
     },
     "execution_count": 86,
     "metadata": {},
     "output_type": "execute_result"
    }
   ],
   "source": [
    "l4.index(\"Tiyasha\")"
   ]
  },
  {
   "cell_type": "code",
   "execution_count": 87,
   "id": "77eb9e58-ff66-427c-b5b6-183b15ae78ff",
   "metadata": {},
   "outputs": [
    {
     "data": {
      "text/plain": [
       "1"
      ]
     },
     "execution_count": 87,
     "metadata": {},
     "output_type": "execute_result"
    }
   ],
   "source": [
    "l4.count(\"Tiyasha\")"
   ]
  },
  {
   "cell_type": "code",
   "execution_count": 88,
   "id": "6cc05e6b-7b0b-482f-bbdf-eafb61cb4abf",
   "metadata": {},
   "outputs": [],
   "source": [
    "s=\"tiyasha\""
   ]
  },
  {
   "cell_type": "code",
   "execution_count": 89,
   "id": "0f90b2b1-29b3-47e3-9fb3-68752142363a",
   "metadata": {},
   "outputs": [],
   "source": [
    "l5=[3,4,5,6]"
   ]
  },
  {
   "cell_type": "code",
   "execution_count": 90,
   "id": "8ff91940-fca3-42b7-b5fc-3873d04a3aa6",
   "metadata": {},
   "outputs": [
    {
     "data": {
      "text/plain": [
       "'t'"
      ]
     },
     "execution_count": 90,
     "metadata": {},
     "output_type": "execute_result"
    }
   ],
   "source": [
    "s[0]"
   ]
  },
  {
   "cell_type": "code",
   "execution_count": 91,
   "id": "e8d3b78d-a0f8-4a07-b765-2c674a636448",
   "metadata": {},
   "outputs": [
    {
     "ename": "TypeError",
     "evalue": "'str' object does not support item assignment",
     "output_type": "error",
     "traceback": [
      "\u001b[0;31m---------------------------------------------------------------------------\u001b[0m",
      "\u001b[0;31mTypeError\u001b[0m                                 Traceback (most recent call last)",
      "Cell \u001b[0;32mIn[91], line 1\u001b[0m\n\u001b[0;32m----> 1\u001b[0m \u001b[43ms\u001b[49m\u001b[43m[\u001b[49m\u001b[38;5;241;43m0\u001b[39;49m\u001b[43m]\u001b[49m\u001b[38;5;241m=\u001b[39m\u001b[38;5;124m\"\u001b[39m\u001b[38;5;124ma\u001b[39m\u001b[38;5;124m\"\u001b[39m    \u001b[38;5;66;03m# immutable doesn't allow any change in the object once it has been created.\u001b[39;00m\n",
      "\u001b[0;31mTypeError\u001b[0m: 'str' object does not support item assignment"
     ]
    }
   ],
   "source": [
    "s[0]=\"a\"    # immutable doesn't allow any change in the object once it has been created."
   ]
  },
  {
   "cell_type": "code",
   "execution_count": 92,
   "id": "661fb1d5-ddf5-4a85-8beb-d3a161c32061",
   "metadata": {},
   "outputs": [
    {
     "data": {
      "text/plain": [
       "3"
      ]
     },
     "execution_count": 92,
     "metadata": {},
     "output_type": "execute_result"
    }
   ],
   "source": [
    "l5[0]"
   ]
  },
  {
   "cell_type": "code",
   "execution_count": 93,
   "id": "e4e4079a-e0fd-4071-bb28-cdd8c877667b",
   "metadata": {},
   "outputs": [],
   "source": [
    "l5[0]=30  # Mutable is a fancy way of saying that the internal state of the object is changed/mutated"
   ]
  },
  {
   "cell_type": "code",
   "execution_count": 94,
   "id": "6bf8ac86-34de-49b1-a242-34428384bfac",
   "metadata": {},
   "outputs": [
    {
     "data": {
      "text/plain": [
       "[30, 4, 5, 6]"
      ]
     },
     "execution_count": 94,
     "metadata": {},
     "output_type": "execute_result"
    }
   ],
   "source": [
    "l5"
   ]
  },
  {
   "cell_type": "code",
   "execution_count": 95,
   "id": "8c4a4b4a-a7e2-4e72-9e55-9561bdfd050e",
   "metadata": {},
   "outputs": [
    {
     "data": {
      "text/plain": [
       "'tiyanha'"
      ]
     },
     "execution_count": 95,
     "metadata": {},
     "output_type": "execute_result"
    }
   ],
   "source": [
    "s.replace(\"s\",\"n\")"
   ]
  },
  {
   "cell_type": "markdown",
   "id": "71f4832b-ddcd-4a76-88c8-ce108937a97a",
   "metadata": {},
   "source": [
    "TUPLE"
   ]
  },
  {
   "cell_type": "code",
   "execution_count": 96,
   "id": "1b1b2344-90f1-44cf-bb84-fe5740a1cd7c",
   "metadata": {},
   "outputs": [
    {
     "data": {
      "text/plain": [
       "(1, 343, 45, 'Tiyasha', True, (5+7j), 25.34, [2, 3, 4])"
      ]
     },
     "execution_count": 96,
     "metadata": {},
     "output_type": "execute_result"
    }
   ],
   "source": [
    "t=(1,343,45,\"Tiyasha\",True,5+7j,25.34,[2,3,4])\n",
    "t"
   ]
  },
  {
   "cell_type": "code",
   "execution_count": 97,
   "id": "45ca10b2-f6a3-4f12-a8fe-5b2ef365eb2d",
   "metadata": {},
   "outputs": [
    {
     "data": {
      "text/plain": [
       "tuple"
      ]
     },
     "execution_count": 97,
     "metadata": {},
     "output_type": "execute_result"
    }
   ],
   "source": [
    "type(t)"
   ]
  },
  {
   "cell_type": "code",
   "execution_count": 98,
   "id": "f2bb7113-5856-443b-92bd-d0d8eeea0a3e",
   "metadata": {},
   "outputs": [
    {
     "data": {
      "text/plain": [
       "8"
      ]
     },
     "execution_count": 98,
     "metadata": {},
     "output_type": "execute_result"
    }
   ],
   "source": [
    "len(t)"
   ]
  },
  {
   "cell_type": "code",
   "execution_count": 99,
   "id": "631cb908-8e97-43aa-9258-5d0204b2d33b",
   "metadata": {},
   "outputs": [
    {
     "data": {
      "text/plain": [
       "1"
      ]
     },
     "execution_count": 99,
     "metadata": {},
     "output_type": "execute_result"
    }
   ],
   "source": [
    "t[0]"
   ]
  },
  {
   "cell_type": "code",
   "execution_count": 100,
   "id": "1435b5a4-a547-4523-b51b-249ec8f99911",
   "metadata": {},
   "outputs": [
    {
     "data": {
      "text/plain": [
       "'Tiyasha'"
      ]
     },
     "execution_count": 100,
     "metadata": {},
     "output_type": "execute_result"
    }
   ],
   "source": [
    "t[3]"
   ]
  },
  {
   "cell_type": "code",
   "execution_count": 101,
   "id": "f5fe9ed1-7a97-4022-80d0-ac2507d5fc1c",
   "metadata": {},
   "outputs": [
    {
     "data": {
      "text/plain": [
       "[2, 3, 4]"
      ]
     },
     "execution_count": 101,
     "metadata": {},
     "output_type": "execute_result"
    }
   ],
   "source": [
    "t[-1]"
   ]
  },
  {
   "cell_type": "code",
   "execution_count": 102,
   "id": "17e4697f-c518-4d85-bd81-0baf5028a961",
   "metadata": {},
   "outputs": [
    {
     "data": {
      "text/plain": [
       "([2, 3, 4], 25.34, (5+7j), True, 'Tiyasha', 45, 343, 1)"
      ]
     },
     "execution_count": 102,
     "metadata": {},
     "output_type": "execute_result"
    }
   ],
   "source": [
    "t[::-1]"
   ]
  },
  {
   "cell_type": "code",
   "execution_count": 103,
   "id": "da862ae3-4f1a-4080-98ae-a5b7a3eaa1e8",
   "metadata": {},
   "outputs": [
    {
     "data": {
      "text/plain": [
       "['pwskils', 'Tiyasha', 'Neogi', 'Data science']"
      ]
     },
     "execution_count": 103,
     "metadata": {},
     "output_type": "execute_result"
    }
   ],
   "source": [
    "l4"
   ]
  },
  {
   "cell_type": "code",
   "execution_count": 104,
   "id": "f7cd776f-d77d-4f46-ac56-f17190c08878",
   "metadata": {},
   "outputs": [
    {
     "data": {
      "text/plain": [
       "'pwskils'"
      ]
     },
     "execution_count": 104,
     "metadata": {},
     "output_type": "execute_result"
    }
   ],
   "source": [
    "l4[0]"
   ]
  },
  {
   "cell_type": "code",
   "execution_count": 105,
   "id": "5c8f8aae-5a21-4e52-854a-7af7b45537a7",
   "metadata": {},
   "outputs": [],
   "source": [
    "l4[0]=127239 # in case of list proper index ke access kore data ke mutated korchi at the indexes "
   ]
  },
  {
   "cell_type": "code",
   "execution_count": 106,
   "id": "2dd9eb90-ab9f-40b9-a93c-59bb53575e43",
   "metadata": {},
   "outputs": [
    {
     "data": {
      "text/plain": [
       "[127239, 'Tiyasha', 'Neogi', 'Data science']"
      ]
     },
     "execution_count": 106,
     "metadata": {},
     "output_type": "execute_result"
    }
   ],
   "source": [
    "l4"
   ]
  },
  {
   "cell_type": "code",
   "execution_count": 107,
   "id": "3afca916-31d5-4781-805b-5615df9908b8",
   "metadata": {},
   "outputs": [
    {
     "data": {
      "text/plain": [
       "1"
      ]
     },
     "execution_count": 107,
     "metadata": {},
     "output_type": "execute_result"
    }
   ],
   "source": [
    "t[0]"
   ]
  },
  {
   "cell_type": "code",
   "execution_count": 108,
   "id": "35e6ef22-6565-4818-b942-5adf73ef24a8",
   "metadata": {},
   "outputs": [
    {
     "ename": "TypeError",
     "evalue": "'tuple' object does not support item assignment",
     "output_type": "error",
     "traceback": [
      "\u001b[0;31m---------------------------------------------------------------------------\u001b[0m",
      "\u001b[0;31mTypeError\u001b[0m                                 Traceback (most recent call last)",
      "Cell \u001b[0;32mIn[108], line 1\u001b[0m\n\u001b[0;32m----> 1\u001b[0m \u001b[43mt\u001b[49m\u001b[43m[\u001b[49m\u001b[38;5;241;43m0\u001b[39;49m\u001b[43m]\u001b[49m\u001b[38;5;241m=\u001b[39m\u001b[38;5;124m\"\u001b[39m\u001b[38;5;124mtiyasha\u001b[39m\u001b[38;5;124m\"\u001b[39m\n",
      "\u001b[0;31mTypeError\u001b[0m: 'tuple' object does not support item assignment"
     ]
    }
   ],
   "source": [
    "t[0]=\"tiyasha\""
   ]
  },
  {
   "cell_type": "code",
   "execution_count": 109,
   "id": "2f5c4d39-fbd5-42dd-bcff-fe70acc7ec2e",
   "metadata": {},
   "outputs": [
    {
     "data": {
      "text/plain": [
       "([2, 3, 4], 25.34, (5+7j), True, 'Tiyasha', 45, 343, 1)"
      ]
     },
     "execution_count": 109,
     "metadata": {},
     "output_type": "execute_result"
    }
   ],
   "source": [
    "t[::-1]"
   ]
  },
  {
   "cell_type": "code",
   "execution_count": 110,
   "id": "80b9d7d7-5322-472b-bd53-2802d6bc3b43",
   "metadata": {},
   "outputs": [
    {
     "data": {
      "text/plain": [
       "0"
      ]
     },
     "execution_count": 110,
     "metadata": {},
     "output_type": "execute_result"
    }
   ],
   "source": [
    "t.count(5)"
   ]
  },
  {
   "cell_type": "code",
   "execution_count": 111,
   "id": "ed66499f-9437-4b30-8026-122b750bc89d",
   "metadata": {},
   "outputs": [
    {
     "data": {
      "text/plain": [
       "0"
      ]
     },
     "execution_count": 111,
     "metadata": {},
     "output_type": "execute_result"
    }
   ],
   "source": [
    "t.count(\"T\")"
   ]
  },
  {
   "cell_type": "code",
   "execution_count": 112,
   "id": "af1415d4-cafa-4f21-9eb6-c75ee3fd54a2",
   "metadata": {},
   "outputs": [
    {
     "data": {
      "text/plain": [
       "0"
      ]
     },
     "execution_count": 112,
     "metadata": {},
     "output_type": "execute_result"
    }
   ],
   "source": [
    "t.index(True)"
   ]
  },
  {
   "cell_type": "code",
   "execution_count": 113,
   "id": "76bd952e-cc1d-419a-a9f6-57d6e099ae22",
   "metadata": {},
   "outputs": [
    {
     "data": {
      "text/plain": [
       "(1, 343, 45, 'Tiyasha', True, (5+7j), 25.34, [2, 3, 4])"
      ]
     },
     "execution_count": 113,
     "metadata": {},
     "output_type": "execute_result"
    }
   ],
   "source": [
    "t"
   ]
  },
  {
   "cell_type": "code",
   "execution_count": 114,
   "id": "2a69fc33-7df6-433a-a236-0384e0248383",
   "metadata": {},
   "outputs": [
    {
     "data": {
      "text/plain": [
       "3"
      ]
     },
     "execution_count": 114,
     "metadata": {},
     "output_type": "execute_result"
    }
   ],
   "source": [
    "t.index(\"Tiyasha\")"
   ]
  },
  {
   "cell_type": "code",
   "execution_count": 115,
   "id": "b3537507-8140-4576-9eb7-368e2ab7fbdc",
   "metadata": {},
   "outputs": [
    {
     "data": {
      "text/plain": [
       "0"
      ]
     },
     "execution_count": 115,
     "metadata": {},
     "output_type": "execute_result"
    }
   ],
   "source": [
    "t.index(True) #1 is nothing but true and 0 is nothing but false"
   ]
  },
  {
   "cell_type": "code",
   "execution_count": 116,
   "id": "7f3e4fcf-bed1-423f-8d33-dce87c665b46",
   "metadata": {},
   "outputs": [
    {
     "data": {
      "text/plain": [
       "dict"
      ]
     },
     "execution_count": 116,
     "metadata": {},
     "output_type": "execute_result"
    }
   ],
   "source": [
    "s1={}\n",
    "type(s1)"
   ]
  },
  {
   "cell_type": "code",
   "execution_count": 117,
   "id": "c5064180-1ebe-424d-94e2-5a26ac668bcf",
   "metadata": {},
   "outputs": [
    {
     "data": {
      "text/plain": [
       "set"
      ]
     },
     "execution_count": 117,
     "metadata": {},
     "output_type": "execute_result"
    }
   ],
   "source": [
    "s2={4,22,6,55}\n",
    "type(s2)"
   ]
  },
  {
   "cell_type": "code",
   "execution_count": 118,
   "id": "421d2b41-a169-48f8-9360-a9ae6ed25e26",
   "metadata": {},
   "outputs": [
    {
     "ename": "TypeError",
     "evalue": "unhashable type: 'list'",
     "output_type": "error",
     "traceback": [
      "\u001b[0;31m---------------------------------------------------------------------------\u001b[0m",
      "\u001b[0;31mTypeError\u001b[0m                                 Traceback (most recent call last)",
      "Cell \u001b[0;32mIn[118], line 1\u001b[0m\n\u001b[0;32m----> 1\u001b[0m s3\u001b[38;5;241m=\u001b[39m{[\u001b[38;5;241m2\u001b[39m, \u001b[38;5;241m3\u001b[39m, \u001b[38;5;241m4\u001b[39m], \u001b[38;5;241m25.34\u001b[39m, (\u001b[38;5;241m5\u001b[39m\u001b[38;5;241m+\u001b[39m\u001b[38;5;241m7\u001b[39mj), \u001b[38;5;28;01mTrue\u001b[39;00m, \u001b[38;5;124m'\u001b[39m\u001b[38;5;124mTiyasha\u001b[39m\u001b[38;5;124m'\u001b[39m, \u001b[38;5;241m45\u001b[39m, \u001b[38;5;241m343\u001b[39m, \u001b[38;5;241m1\u001b[39m}\n",
      "\u001b[0;31mTypeError\u001b[0m: unhashable type: 'list'"
     ]
    }
   ],
   "source": [
    "s3={[2, 3, 4], 25.34, (5+7j), True, 'Tiyasha', 45, 343, 1}"
   ]
  },
  {
   "cell_type": "code",
   "execution_count": 119,
   "id": "3f329919-7650-4916-b8c1-ac606942152c",
   "metadata": {},
   "outputs": [],
   "source": [
    "s3={(2, 3, 4), 25.34, 5+7j, True, 'Tiyasha', 45, 343, 1}"
   ]
  },
  {
   "cell_type": "code",
   "execution_count": 120,
   "id": "83704ba3-ea34-4714-928f-1ac02fe84fab",
   "metadata": {},
   "outputs": [
    {
     "data": {
      "text/plain": [
       "{(2, 3, 4), (5+7j), 25.34, 343, 45, 'Tiyasha', True}"
      ]
     },
     "execution_count": 120,
     "metadata": {},
     "output_type": "execute_result"
    }
   ],
   "source": [
    "s3"
   ]
  },
  {
   "cell_type": "code",
   "execution_count": 124,
   "id": "adbfc541-9a38-4401-b22c-1d24f72dc54a",
   "metadata": {},
   "outputs": [],
   "source": [
    "s4={3,4,6,7,6,2,4,1,3,2,2,4,5,4,3,5,6,7,5,4,2,1,3,5} #sets cannot have multiple occurrences of the same element"
   ]
  },
  {
   "cell_type": "code",
   "execution_count": 125,
   "id": "70f6d5ae-1688-4838-9fde-3603085b13f6",
   "metadata": {},
   "outputs": [
    {
     "data": {
      "text/plain": [
       "{1, 2, 3, 4, 5, 6, 7}"
      ]
     },
     "execution_count": 125,
     "metadata": {},
     "output_type": "execute_result"
    }
   ],
   "source": [
    "s4"
   ]
  },
  {
   "cell_type": "code",
   "execution_count": 126,
   "id": "bc229d1a-3238-43c2-8c53-216cc29b0170",
   "metadata": {},
   "outputs": [
    {
     "data": {
      "text/plain": [
       "{1, 2, 3, 4, 5, 6, 7, 'Tiyasha', 'tiyasha'}"
      ]
     },
     "execution_count": 126,
     "metadata": {},
     "output_type": "execute_result"
    }
   ],
   "source": [
    "s4={3,4,6,7,6,2,4,1,3,2,2,4,5,4,3,5,6,7,5,4,2,1,3,5,\"Tiyasha\",\"tiyasha\"}\n",
    "s4"
   ]
  },
  {
   "cell_type": "markdown",
   "id": "7000a3fe-ea00-4a28-9c4d-fed8a6f6cb18",
   "metadata": {},
   "source": [
    "Sets are used to store multiple items in a single variable."
   ]
  },
  {
   "cell_type": "code",
   "execution_count": 128,
   "id": "2d7306f2-542b-4039-b912-ee90d67249e8",
   "metadata": {},
   "outputs": [],
   "source": [
    "l6=[3,4,6,7,6,2,4,1,3,2,2,4,5,4,3,5,6,7,5,4,2,1,3,5,\"Tiyasha\",\"tiyasha\"]"
   ]
  },
  {
   "cell_type": "code",
   "execution_count": 131,
   "id": "d82b0083-be50-48f4-ab71-1d9c33ce2088",
   "metadata": {},
   "outputs": [],
   "source": [
    "l6=set(l6) "
   ]
  },
  {
   "cell_type": "code",
   "execution_count": 132,
   "id": "8cfe1b59-8373-45a1-85d3-bacdc7f87676",
   "metadata": {},
   "outputs": [
    {
     "data": {
      "text/plain": [
       "{1, 2, 3, 4, 5, 6, 7, 'Tiyasha', 'tiyasha'}"
      ]
     },
     "execution_count": 132,
     "metadata": {},
     "output_type": "execute_result"
    }
   ],
   "source": [
    "l6"
   ]
  },
  {
   "cell_type": "code",
   "execution_count": 133,
   "id": "058e9e8e-d58a-4c6e-8a1a-14378966da22",
   "metadata": {},
   "outputs": [],
   "source": [
    "l6=list(set(l6))"
   ]
  },
  {
   "cell_type": "code",
   "execution_count": 134,
   "id": "6c74a8a4-0b0e-439f-a747-4d50cec5e629",
   "metadata": {},
   "outputs": [
    {
     "data": {
      "text/plain": [
       "['Tiyasha', 1, 2, 3, 4, 5, 6, 7, 'tiyasha']"
      ]
     },
     "execution_count": 134,
     "metadata": {},
     "output_type": "execute_result"
    }
   ],
   "source": [
    "l6"
   ]
  },
  {
   "cell_type": "code",
   "execution_count": 135,
   "id": "dea859bb-9089-43a6-ab0d-bf57f9ef3b48",
   "metadata": {},
   "outputs": [],
   "source": [
    "s5={234,45,23,12,567,45,2,789,234,\"abc\",456,342,23}"
   ]
  },
  {
   "cell_type": "code",
   "execution_count": 136,
   "id": "dec74f95-dcb9-4a20-b949-3812855a8b03",
   "metadata": {},
   "outputs": [
    {
     "data": {
      "text/plain": [
       "{12, 2, 23, 234, 342, 45, 456, 567, 789, 'abc'}"
      ]
     },
     "execution_count": 136,
     "metadata": {},
     "output_type": "execute_result"
    }
   ],
   "source": [
    "s5"
   ]
  },
  {
   "cell_type": "markdown",
   "id": "540360ac-c814-4466-a10d-17dfb8c56425",
   "metadata": {},
   "source": [
    "Build an unordered collection of unique elements."
   ]
  },
  {
   "cell_type": "code",
   "execution_count": 137,
   "id": "d1aac2aa-541f-40dd-8509-59688d1b8a1b",
   "metadata": {},
   "outputs": [
    {
     "ename": "TypeError",
     "evalue": "'set' object is not subscriptable",
     "output_type": "error",
     "traceback": [
      "\u001b[0;31m---------------------------------------------------------------------------\u001b[0m",
      "\u001b[0;31mTypeError\u001b[0m                                 Traceback (most recent call last)",
      "Cell \u001b[0;32mIn[137], line 1\u001b[0m\n\u001b[0;32m----> 1\u001b[0m \u001b[43ms5\u001b[49m\u001b[43m[\u001b[49m\u001b[38;5;241;43m0\u001b[39;49m\u001b[43m]\u001b[49m\n",
      "\u001b[0;31mTypeError\u001b[0m: 'set' object is not subscriptable"
     ]
    }
   ],
   "source": [
    "s5[0]"
   ]
  },
  {
   "cell_type": "code",
   "execution_count": 139,
   "id": "6a254112-5969-4de9-b9ae-ff1a5c6591ad",
   "metadata": {},
   "outputs": [
    {
     "ename": "TypeError",
     "evalue": "'set' object is not subscriptable",
     "output_type": "error",
     "traceback": [
      "\u001b[0;31m---------------------------------------------------------------------------\u001b[0m",
      "\u001b[0;31mTypeError\u001b[0m                                 Traceback (most recent call last)",
      "Cell \u001b[0;32mIn[139], line 1\u001b[0m\n\u001b[0;32m----> 1\u001b[0m \u001b[43ms5\u001b[49m\u001b[43m[\u001b[49m\u001b[43m:\u001b[49m\u001b[43m:\u001b[49m\u001b[38;5;241;43m-\u001b[39;49m\u001b[38;5;241;43m1\u001b[39;49m\u001b[43m]\u001b[49m\n",
      "\u001b[0;31mTypeError\u001b[0m: 'set' object is not subscriptable"
     ]
    }
   ],
   "source": [
    "s5[::-1]"
   ]
  },
  {
   "cell_type": "code",
   "execution_count": 140,
   "id": "1a7d9149-9ef2-4601-964e-7043f9429231",
   "metadata": {},
   "outputs": [],
   "source": [
    "s5.add(4)"
   ]
  },
  {
   "cell_type": "code",
   "execution_count": 141,
   "id": "d23e64fe-ecba-4906-a61e-ba3a0919a7d0",
   "metadata": {},
   "outputs": [
    {
     "data": {
      "text/plain": [
       "{12, 2, 23, 234, 342, 4, 45, 456, 567, 789, 'abc'}"
      ]
     },
     "execution_count": 141,
     "metadata": {},
     "output_type": "execute_result"
    }
   ],
   "source": [
    "s5"
   ]
  },
  {
   "cell_type": "code",
   "execution_count": 143,
   "id": "2ebbcf46-2c2b-4a59-a138-eca28b1c1bc4",
   "metadata": {},
   "outputs": [],
   "source": [
    "s5.remove(2)"
   ]
  },
  {
   "cell_type": "code",
   "execution_count": 144,
   "id": "3b7bff46-4426-46c1-9000-de4f32822ec9",
   "metadata": {},
   "outputs": [
    {
     "data": {
      "text/plain": [
       "{12, 23, 234, 342, 4, 45, 456, 567, 789, 'abc'}"
      ]
     },
     "execution_count": 144,
     "metadata": {},
     "output_type": "execute_result"
    }
   ],
   "source": [
    "s5"
   ]
  },
  {
   "cell_type": "code",
   "execution_count": null,
   "id": "41b984df-f419-4354-86e1-f8e0ebd9e771",
   "metadata": {},
   "outputs": [],
   "source": []
  }
 ],
 "metadata": {
  "kernelspec": {
   "display_name": "Python 3 (ipykernel)",
   "language": "python",
   "name": "python3"
  },
  "language_info": {
   "codemirror_mode": {
    "name": "ipython",
    "version": 3
   },
   "file_extension": ".py",
   "mimetype": "text/x-python",
   "name": "python",
   "nbconvert_exporter": "python",
   "pygments_lexer": "ipython3",
   "version": "3.10.8"
  }
 },
 "nbformat": 4,
 "nbformat_minor": 5
}
